{
 "cells": [
  {
   "attachments": {},
   "cell_type": "markdown",
   "metadata": {},
   "source": [
    "[Report link](https://wandb.ai/saifulrijal873/mlops-zoomcamp-homework/reports/Advanced-Machine-Learning-Experiment-Tracking-using-Weights-Biases-MLOps-Zoomcamp-2023-Homework--Vmlldzo0NTM0OTMx?accessToken=8kyc3rpa78rq75g58wmcjv5v7lqyq583hd3zi0up0uvv2mt8lp7sh74jqszpgtdm)"
   ]
  },
  {
   "cell_type": "code",
   "execution_count": 3,
   "metadata": {},
   "outputs": [],
   "source": [
    "from urllib import request, parse"
   ]
  },
  {
   "attachments": {},
   "cell_type": "markdown",
   "metadata": {},
   "source": [
    "### Q1. Version"
   ]
  },
  {
   "cell_type": "code",
   "execution_count": 1,
   "metadata": {},
   "outputs": [
    {
     "name": "stdout",
     "output_type": "stream",
     "text": [
      "wandb, version 0.15.3\n"
     ]
    }
   ],
   "source": [
    "!wandb --version"
   ]
  },
  {
   "cell_type": "code",
   "execution_count": 2,
   "metadata": {},
   "outputs": [
    {
     "data": {
      "text/plain": [
       "'0.15.3'"
      ]
     },
     "execution_count": 2,
     "metadata": {},
     "output_type": "execute_result"
    }
   ],
   "source": [
    "import wandb\n",
    "\n",
    "wandb.__version__"
   ]
  },
  {
   "attachments": {},
   "cell_type": "markdown",
   "metadata": {},
   "source": [
    "### Q2. Size of DictVectorizer"
   ]
  },
  {
   "cell_type": "code",
   "execution_count": 4,
   "metadata": {},
   "outputs": [
    {
     "name": "stdout",
     "output_type": "stream",
     "text": [
      "Downloaded green_tripdata_2022-01.parquet\n",
      "Downloaded green_tripdata_2022-02.parquet\n",
      "Downloaded green_tripdata_2022-03.parquet\n"
     ]
    }
   ],
   "source": [
    "# Downloads the data\n",
    "import os\n",
    "url_list = [\n",
    "    \"https://d37ci6vzurychx.cloudfront.net/trip-data/green_tripdata_2022-01.parquet\",\n",
    "    \"https://d37ci6vzurychx.cloudfront.net/trip-data/green_tripdata_2022-02.parquet\",\n",
    "    \"https://d37ci6vzurychx.cloudfront.net/trip-data/green_tripdata_2022-03.parquet\"\n",
    "]\n",
    "data_path = \"data/raw/\"\n",
    "\n",
    "if not os.path.exists(data_path):\n",
    "    os.makedirs(data_path)\n",
    "\n",
    "for url in url_list:\n",
    "    parsed_url = parse.urlparse(url)\n",
    "    filename = parsed_url.path.split(\"/\")[-1]\n",
    "    file_path = os.path.join(data_path, filename)\n",
    "    request.urlretrieve(url, file_path)\n",
    "    print(f\"Downloaded {filename}\")"
   ]
  },
  {
   "cell_type": "code",
   "execution_count": 7,
   "metadata": {},
   "outputs": [],
   "source": [
    "path_to_script = \"python_files/preprocess_data.py\"\n",
    "project_name = \"mlops-zoomcamp-homework\"\n",
    "entity_name = \"saifulrijal873\"\n",
    "with open('wandb_api_key.txt', 'r') as f:\n",
    "    api_key = f.read().strip()\n",
    "raw_data_path = \"data/raw/\"\n",
    "output_path = \"data/processed/\""
   ]
  },
  {
   "attachments": {},
   "cell_type": "markdown",
   "metadata": {},
   "source": [
    "I add flag --wandb_api_key to insert the API key and call wandb.login(key=wandb_api_key)."
   ]
  },
  {
   "cell_type": "code",
   "execution_count": 8,
   "metadata": {},
   "outputs": [],
   "source": [
    "command = f\"python {path_to_script} --wandb_project {project_name} --wandb_entity {entity_name} --wandb_api_key {api_key} --raw_data_path {raw_data_path} --dest_path {output_path}\""
   ]
  },
  {
   "cell_type": "code",
   "execution_count": 9,
   "metadata": {},
   "outputs": [
    {
     "name": "stderr",
     "output_type": "stream",
     "text": [
      "wandb: W&B API key is configured. Use `wandb login --relogin` to force relogin\n",
      "wandb: Appending key for api.wandb.ai to your netrc file: C:\\Users\\094079/.netrc\n",
      "wandb: Currently logged in as: saifulrijal873. Use `wandb login --relogin` to force relogin\n",
      "wandb: Tracking run with wandb version 0.15.3\n",
      "wandb: Run data is saved locally in d:\\0_Saiful\\2_Learn\\mlops-zoomcamp\\experiment_tracking\\homework_wandb\\wandb\\run-20230602_025814-f6m55pkd\n",
      "wandb: Run `wandb offline` to turn off syncing.\n",
      "wandb: Syncing run silver-planet-1\n",
      "wandb:  View project at https://wandb.ai/saifulrijal873/mlops-zoomcamp-homework\n",
      "wandb:  View run at https://wandb.ai/saifulrijal873/mlops-zoomcamp-homework/runs/f6m55pkd\n",
      "wandb: Adding directory to artifact (.\\data\\processed)... Done. 0.0s\n",
      "wandb: Waiting for W&B process to finish... (success).\n",
      "wandb:  View run silver-planet-1 at: https://wandb.ai/saifulrijal873/mlops-zoomcamp-homework/runs/f6m55pkd\n",
      "wandb: Synced 5 W&B file(s), 0 media file(s), 4 artifact file(s) and 0 other file(s)\n",
      "wandb: Find logs at: .\\wandb\\run-20230602_025814-f6m55pkd\\logs\n"
     ]
    }
   ],
   "source": [
    "!{command}"
   ]
  },
  {
   "attachments": {},
   "cell_type": "markdown",
   "metadata": {},
   "source": [
    "From the report the size of the saved DictVectorizer 'dv.pkl' is about 154 kb.\n",
    "Report link https://wandb.ai/saifulrijal873/mlops-zoomcamp-homework/reports/Wandb-MLOps-Platform-in-the-DataTalksClub-MLOps-ZoomCamp-2023-Course-Homework--Vmlldzo0NTM0OTMx?accessToken=8kyc3rpa78rq75g58wmcjv5v7lqyq583hd3zi0up0uvv2mt8lp7sh74jqszpgtdm"
   ]
  },
  {
   "attachments": {},
   "cell_type": "markdown",
   "metadata": {},
   "source": [
    "### Q3: Value of max_depth"
   ]
  },
  {
   "cell_type": "code",
   "execution_count": 13,
   "metadata": {},
   "outputs": [],
   "source": [
    "path_to_script = \"python_files/train.py\"\n",
    "project_name = \"mlops-zoomcamp-homework\"\n",
    "entity_name = \"saifulrijal873\"\n",
    "with open('wandb_api_key.txt', 'r') as f:\n",
    "    api_key = f.read().strip()\n",
    "path_to_artifacts = f\"{entity_name}/{project_name}/NYC-Taxi:v0\""
   ]
  },
  {
   "cell_type": "code",
   "execution_count": 14,
   "metadata": {},
   "outputs": [],
   "source": [
    "command = f\"python {path_to_script} --wandb_project {project_name} --wandb_entity {entity_name} --wandb_api_key {api_key} --data_artifact {path_to_artifacts}\""
   ]
  },
  {
   "cell_type": "code",
   "execution_count": 15,
   "metadata": {},
   "outputs": [
    {
     "name": "stderr",
     "output_type": "stream",
     "text": [
      "wandb: Currently logged in as: saifulrijal873. Use `wandb login --relogin` to force relogin\n",
      "wandb: Appending key for api.wandb.ai to your netrc file: C:\\Users\\094079/.netrc\n",
      "wandb: Tracking run with wandb version 0.15.3\n",
      "wandb: Run data is saved locally in d:\\0_Saiful\\2_Learn\\mlops-zoomcamp\\experiment_tracking\\homework_wandb\\wandb\\run-20230602_034911-7e5fdy18\n",
      "wandb: Run `wandb offline` to turn off syncing.\n",
      "wandb: Syncing run laced-energy-3\n",
      "wandb:  View project at https://wandb.ai/saifulrijal873/mlops-zoomcamp-homework\n",
      "wandb:  View run at https://wandb.ai/saifulrijal873/mlops-zoomcamp-homework/runs/7e5fdy18\n",
      "wandb:   4 of 4 files downloaded.  \n",
      "wandb: Waiting for W&B process to finish... (success).\n",
      "wandb: \n",
      "wandb: Run history:\n",
      "wandb: MSE ▁\n",
      "wandb: \n",
      "wandb: Run summary:\n",
      "wandb: MSE 2.45398\n",
      "wandb: \n",
      "wandb:  View run laced-energy-3 at: https://wandb.ai/saifulrijal873/mlops-zoomcamp-homework/runs/7e5fdy18\n",
      "wandb: Synced 5 W&B file(s), 0 media file(s), 1 artifact file(s) and 0 other file(s)\n",
      "wandb: Find logs at: .\\wandb\\run-20230602_034911-7e5fdy18\\logs\n"
     ]
    }
   ],
   "source": [
    "!{command}"
   ]
  },
  {
   "attachments": {},
   "cell_type": "markdown",
   "metadata": {},
   "source": [
    "### Q4: Most important parameter"
   ]
  },
  {
   "cell_type": "code",
   "execution_count": 16,
   "metadata": {},
   "outputs": [],
   "source": [
    "path_to_script = \"python_files/sweep.py\"\n",
    "project_name = \"mlops-zoomcamp-homework\"\n",
    "entity_name = \"saifulrijal873\"\n",
    "with open('wandb_api_key.txt', 'r') as f:\n",
    "    api_key = f.read().strip()\n",
    "path_to_artifacts = f\"{entity_name}/{project_name}/NYC-Taxi:v0\""
   ]
  },
  {
   "cell_type": "code",
   "execution_count": 17,
   "metadata": {},
   "outputs": [],
   "source": [
    "command = f\"python {path_to_script} --wandb_project {project_name} --wandb_entity {entity_name} --data_artifact {path_to_artifacts}\""
   ]
  },
  {
   "cell_type": "code",
   "execution_count": 18,
   "metadata": {},
   "outputs": [
    {
     "name": "stdout",
     "output_type": "stream",
     "text": [
      "Create sweep with ID: 0jeekv73\n",
      "Sweep URL: https://wandb.ai/saifulrijal873/mlops-zoomcamp-homework/sweeps/0jeekv73\n"
     ]
    },
    {
     "name": "stderr",
     "output_type": "stream",
     "text": [
      "wandb: Agent Starting Run: j3bwg4kc with config:\n",
      "wandb: \tmax_depth: 9\n",
      "wandb: \tmin_samples_leaf: 1\n",
      "wandb: \tmin_samples_split: 10\n",
      "wandb: \tn_estimators: 39\n",
      "wandb: Currently logged in as: saifulrijal873. Use `wandb login --relogin` to force relogin\n",
      "wandb: Tracking run with wandb version 0.15.3\n",
      "wandb: Run data is saved locally in d:\\0_Saiful\\2_Learn\\mlops-zoomcamp\\experiment_tracking\\homework_wandb\\wandb\\run-20230602_042916-j3bwg4kc\n",
      "wandb: Run `wandb offline` to turn off syncing.\n",
      "wandb: Syncing run divine-sweep-1\n",
      "wandb:  View project at https://wandb.ai/saifulrijal873/mlops-zoomcamp-homework\n",
      "wandb:  View sweep at https://wandb.ai/saifulrijal873/mlops-zoomcamp-homework/sweeps/0jeekv73\n",
      "wandb:  View run at https://wandb.ai/saifulrijal873/mlops-zoomcamp-homework/runs/j3bwg4kc\n",
      "wandb:   4 of 4 files downloaded.  \n",
      "wandb: Waiting for W&B process to finish... (success).\n",
      "wandb: \n",
      "wandb: Run history:\n",
      "wandb: MSE ▁\n",
      "wandb: \n",
      "wandb: Run summary:\n",
      "wandb: MSE 2.4636\n",
      "wandb: \n",
      "wandb:  View run divine-sweep-1 at: https://wandb.ai/saifulrijal873/mlops-zoomcamp-homework/runs/j3bwg4kc\n",
      "wandb: Synced 5 W&B file(s), 0 media file(s), 1 artifact file(s) and 0 other file(s)\n",
      "wandb: Find logs at: .\\wandb\\run-20230602_042916-j3bwg4kc\\logs\n",
      "wandb: Agent Starting Run: 0cv4uo0r with config:\n",
      "wandb: \tmax_depth: 5\n",
      "wandb: \tmin_samples_leaf: 1\n",
      "wandb: \tmin_samples_split: 2\n",
      "wandb: \tn_estimators: 38\n",
      "wandb: Tracking run with wandb version 0.15.3\n",
      "wandb: Run data is saved locally in d:\\0_Saiful\\2_Learn\\mlops-zoomcamp\\experiment_tracking\\homework_wandb\\wandb\\run-20230602_042938-0cv4uo0r\n",
      "wandb: Run `wandb offline` to turn off syncing.\n",
      "wandb: Syncing run devout-sweep-2\n",
      "wandb:  View project at https://wandb.ai/saifulrijal873/mlops-zoomcamp-homework\n",
      "wandb:  View sweep at https://wandb.ai/saifulrijal873/mlops-zoomcamp-homework/sweeps/0jeekv73\n",
      "wandb:  View run at https://wandb.ai/saifulrijal873/mlops-zoomcamp-homework/runs/0cv4uo0r\n",
      "wandb:   4 of 4 files downloaded.  \n",
      "wandb: Waiting for W&B process to finish... (success).\n",
      "wandb: \n",
      "wandb: Run history:\n",
      "wandb: MSE ▁\n",
      "wandb: \n",
      "wandb: Run summary:\n",
      "wandb: MSE 2.45989\n",
      "wandb: \n",
      "wandb:  View run devout-sweep-2 at: https://wandb.ai/saifulrijal873/mlops-zoomcamp-homework/runs/0cv4uo0r\n",
      "wandb: Synced 5 W&B file(s), 0 media file(s), 1 artifact file(s) and 0 other file(s)\n",
      "wandb: Find logs at: .\\wandb\\run-20230602_042938-0cv4uo0r\\logs\n",
      "wandb: Agent Starting Run: rqp9swx8 with config:\n",
      "wandb: \tmax_depth: 9\n",
      "wandb: \tmin_samples_leaf: 4\n",
      "wandb: \tmin_samples_split: 7\n",
      "wandb: \tn_estimators: 47\n",
      "wandb: Tracking run with wandb version 0.15.3\n",
      "wandb: Run data is saved locally in d:\\0_Saiful\\2_Learn\\mlops-zoomcamp\\experiment_tracking\\homework_wandb\\wandb\\run-20230602_042959-rqp9swx8\n",
      "wandb: Run `wandb offline` to turn off syncing.\n",
      "wandb: Syncing run lunar-sweep-3\n",
      "wandb:  View project at https://wandb.ai/saifulrijal873/mlops-zoomcamp-homework\n",
      "wandb:  View sweep at https://wandb.ai/saifulrijal873/mlops-zoomcamp-homework/sweeps/0jeekv73\n",
      "wandb:  View run at https://wandb.ai/saifulrijal873/mlops-zoomcamp-homework/runs/rqp9swx8\n",
      "wandb: \\ 2 of 4 files downloaded...\n",
      "wandb:   4 of 4 files downloaded.  \n",
      "wandb: Waiting for W&B process to finish... (success).\n",
      "wandb: \n",
      "wandb: Run history:\n",
      "wandb: MSE ▁\n",
      "wandb: \n",
      "wandb: Run summary:\n",
      "wandb: MSE 2.45195\n",
      "wandb: \n",
      "wandb:  View run lunar-sweep-3 at: https://wandb.ai/saifulrijal873/mlops-zoomcamp-homework/runs/rqp9swx8\n",
      "wandb: Synced 5 W&B file(s), 0 media file(s), 1 artifact file(s) and 0 other file(s)\n",
      "wandb: Find logs at: .\\wandb\\run-20230602_042959-rqp9swx8\\logs\n",
      "wandb: Agent Starting Run: a4gqxcqm with config:\n",
      "wandb: \tmax_depth: 12\n",
      "wandb: \tmin_samples_leaf: 3\n",
      "wandb: \tmin_samples_split: 6\n",
      "wandb: \tn_estimators: 32\n",
      "wandb: Tracking run with wandb version 0.15.3\n",
      "wandb: Run data is saved locally in d:\\0_Saiful\\2_Learn\\mlops-zoomcamp\\experiment_tracking\\homework_wandb\\wandb\\run-20230602_043032-a4gqxcqm\n",
      "wandb: Run `wandb offline` to turn off syncing.\n",
      "wandb: Syncing run confused-sweep-4\n",
      "wandb:  View project at https://wandb.ai/saifulrijal873/mlops-zoomcamp-homework\n",
      "wandb:  View sweep at https://wandb.ai/saifulrijal873/mlops-zoomcamp-homework/sweeps/0jeekv73\n",
      "wandb:  View run at https://wandb.ai/saifulrijal873/mlops-zoomcamp-homework/runs/a4gqxcqm\n",
      "wandb: \\ 1 of 4 files downloaded...\n",
      "wandb:   4 of 4 files downloaded.  \n",
      "wandb: Waiting for W&B process to finish... (success).\n",
      "wandb: \n",
      "wandb: Run history:\n",
      "wandb: MSE ▁\n",
      "wandb: \n",
      "wandb: Run summary:\n",
      "wandb: MSE 2.44979\n",
      "wandb: \n",
      "wandb:  View run confused-sweep-4 at: https://wandb.ai/saifulrijal873/mlops-zoomcamp-homework/runs/a4gqxcqm\n",
      "wandb: Synced 5 W&B file(s), 0 media file(s), 1 artifact file(s) and 0 other file(s)\n",
      "wandb: Find logs at: .\\wandb\\run-20230602_043032-a4gqxcqm\\logs\n",
      "wandb: Agent Starting Run: e2d71sn0 with config:\n",
      "wandb: \tmax_depth: 13\n",
      "wandb: \tmin_samples_leaf: 4\n",
      "wandb: \tmin_samples_split: 6\n",
      "wandb: \tn_estimators: 39\n",
      "wandb: Tracking run with wandb version 0.15.3\n",
      "wandb: Run data is saved locally in d:\\0_Saiful\\2_Learn\\mlops-zoomcamp\\experiment_tracking\\homework_wandb\\wandb\\run-20230602_043104-e2d71sn0\n",
      "wandb: Run `wandb offline` to turn off syncing.\n",
      "wandb: Syncing run treasured-sweep-5\n",
      "wandb:  View project at https://wandb.ai/saifulrijal873/mlops-zoomcamp-homework\n",
      "wandb:  View sweep at https://wandb.ai/saifulrijal873/mlops-zoomcamp-homework/sweeps/0jeekv73\n",
      "wandb:  View run at https://wandb.ai/saifulrijal873/mlops-zoomcamp-homework/runs/e2d71sn0\n",
      "wandb: \\ 1 of 4 files downloaded...\n",
      "wandb:   4 of 4 files downloaded.  \n",
      "wandb: Waiting for W&B process to finish... (success).\n",
      "wandb: \n",
      "wandb: Run history:\n",
      "wandb: MSE ▁\n",
      "wandb: \n",
      "wandb: Run summary:\n",
      "wandb: MSE 2.44959\n",
      "wandb: \n",
      "wandb:  View run treasured-sweep-5 at: https://wandb.ai/saifulrijal873/mlops-zoomcamp-homework/runs/e2d71sn0\n",
      "wandb: Synced 5 W&B file(s), 0 media file(s), 1 artifact file(s) and 0 other file(s)\n",
      "wandb: Find logs at: .\\wandb\\run-20230602_043104-e2d71sn0\\logs\n"
     ]
    }
   ],
   "source": [
    "!{command}"
   ]
  },
  {
   "attachments": {},
   "cell_type": "markdown",
   "metadata": {},
   "source": [
    "### Q5: Model registry"
   ]
  },
  {
   "cell_type": "code",
   "execution_count": 19,
   "metadata": {},
   "outputs": [],
   "source": [
    "project_name = \"mlops-zoomcamp-homework\"\n",
    "sweep_name = \"0jeekv73\"\n",
    "collection_name = \"nyc-taxi-regressor-hw\""
   ]
  },
  {
   "cell_type": "code",
   "execution_count": 32,
   "metadata": {},
   "outputs": [],
   "source": [
    "import wandb\n",
    "\n",
    "sweep_results = wandb.Api(overrides=None, api_key=api_key).sweep(\"saifulrijal873/mlops-zoomcamp-homework/0jeekv73\")"
   ]
  },
  {
   "cell_type": "code",
   "execution_count": 80,
   "metadata": {},
   "outputs": [
    {
     "name": "stderr",
     "output_type": "stream",
     "text": [
      "\u001b[34m\u001b[1mwandb\u001b[0m: Sorting runs by +summary_metrics.MSE\n"
     ]
    },
    {
     "data": {
      "text/plain": [
       "'saifulrijal873'"
      ]
     },
     "execution_count": 80,
     "metadata": {},
     "output_type": "execute_result"
    }
   ],
   "source": [
    "best_run = sweep_results.best_run()\n",
    "best_run.entity"
   ]
  },
  {
   "cell_type": "code",
   "execution_count": 54,
   "metadata": {},
   "outputs": [],
   "source": [
    "runs = sweep_results.runs\n",
    "\n",
    "run = sweep_results.runs[0]\n",
    "    "
   ]
  },
  {
   "cell_type": "code",
   "execution_count": 60,
   "metadata": {},
   "outputs": [
    {
     "data": {
      "text/plain": [
       "['saifulrijal873', 'mlops-zoomcamp-homework', 'e2d71sn0']"
      ]
     },
     "execution_count": 60,
     "metadata": {},
     "output_type": "execute_result"
    }
   ],
   "source": [
    "run.path"
   ]
  },
  {
   "cell_type": "code",
   "execution_count": 75,
   "metadata": {},
   "outputs": [
    {
     "data": {
      "text/plain": [
       "'saifulrijal873'"
      ]
     },
     "execution_count": 75,
     "metadata": {},
     "output_type": "execute_result"
    }
   ],
   "source": [
    "run.entity"
   ]
  },
  {
   "cell_type": "code",
   "execution_count": 81,
   "metadata": {},
   "outputs": [],
   "source": [
    "run_path = run.path\n",
    "run_details = wandb.Api().run(f\"{best_run.entity}/{best_run.project}/{best_run.id}\")"
   ]
  },
  {
   "cell_type": "code",
   "execution_count": 82,
   "metadata": {},
   "outputs": [],
   "source": [
    "artifacts = run_details.logged_artifacts()"
   ]
  },
  {
   "cell_type": "code",
   "execution_count": 87,
   "metadata": {},
   "outputs": [
    {
     "name": "stdout",
     "output_type": "stream",
     "text": [
      "e2d71sn0-model:v0\n",
      "saifulrijal873\n",
      "run-e2d71sn0-history:v0\n",
      "saifulrijal873\n"
     ]
    }
   ],
   "source": [
    "artifact_name = []\n",
    "for artifact in artifacts:\n",
    "    print(artifact.name)\n",
    "    print(artifact.entity)\n",
    "    artifact_name.append(artifact.name)"
   ]
  },
  {
   "cell_type": "code",
   "execution_count": 89,
   "metadata": {},
   "outputs": [
    {
     "data": {
      "text/plain": [
       "[<Artifact QXJ0aWZhY3Q6NDc0Mzg4NTYy>]"
      ]
     },
     "execution_count": 89,
     "metadata": {},
     "output_type": "execute_result"
    }
   ],
   "source": [
    "artifact_model = [artifact for artifact in artifacts if artifact.type == \"model\"]\n",
    "artifact_model"
   ]
  },
  {
   "cell_type": "code",
   "execution_count": 92,
   "metadata": {},
   "outputs": [],
   "source": [
    "model = wandb.Api().artifact(f\"{artifact_model[0].project}/{artifact_model[0].name}\")"
   ]
  },
  {
   "cell_type": "code",
   "execution_count": 1,
   "metadata": {},
   "outputs": [],
   "source": [
    "import wandb\n",
    "\n",
    "with open('wandb_api_key.txt', 'r') as f:\n",
    "    api_key = f.read().strip()\n",
    "project_name = \"mlops-zoomcamp-homework\"\n",
    "entity_name = \"saifulrijal873\"\n",
    "sweep_name = \"0jeekv73\"\n",
    "collection_name = \"nyc-taxi-regressor-hw\"\n",
    "\n",
    "sweep = wandb.Api(api_key=api_key).sweep(f\"{entity_name}/{project_name}/{sweep_name}\")\n",
    "runs = sweep.runs\n",
    "for run in runs:\n",
    "    run_details = wandb.Api(api_key=api_key).run(f\"{run.entity}/{run.project}/{run.id}\")\n",
    "    artifacts = run_details.logged_artifacts()\n",
    "    model_artifact = [artifact for artifact in artifacts if artifact.type == \"model\"][0]\n",
    "    model = wandb.Api(api_key=api_key).artifact(f\"{model_artifact.project}/{model_artifact.name}\")\n",
    "    model.link(collection_name)"
   ]
  },
  {
   "attachments": {},
   "cell_type": "markdown",
   "metadata": {},
   "source": [
    "Add alias for best model artifact."
   ]
  },
  {
   "cell_type": "code",
   "execution_count": 3,
   "metadata": {},
   "outputs": [],
   "source": [
    "import wandb\n",
    "\n",
    "with open('wandb_api_key.txt', 'r') as f:\n",
    "    api_key = f.read().strip()\n",
    "project_name = \"mlops-zoomcamp-homework\"\n",
    "entity_name = \"saifulrijal873\"\n",
    "sweep_name = \"0jeekv73\"\n",
    "collection_name = \"nyc-taxi-regressor-hw\"\n",
    "\n",
    "sweep = wandb.Api(api_key=api_key).sweep(f\"{entity_name}/{project_name}/{sweep_name}\")"
   ]
  },
  {
   "cell_type": "code",
   "execution_count": 10,
   "metadata": {},
   "outputs": [
    {
     "name": "stderr",
     "output_type": "stream",
     "text": [
      "\u001b[34m\u001b[1mwandb\u001b[0m: Sorting runs by +summary_metrics.MSE\n"
     ]
    }
   ],
   "source": [
    "run = sweep.best_run()"
   ]
  },
  {
   "cell_type": "code",
   "execution_count": 12,
   "metadata": {},
   "outputs": [
    {
     "data": {
      "text/plain": [
       "True"
      ]
     },
     "execution_count": 12,
     "metadata": {},
     "output_type": "execute_result"
    }
   ],
   "source": [
    "run_details = wandb.Api(api_key=api_key).run(f\"{run.entity}/{run.project}/{run.id}\")\n",
    "artifacts = run_details.logged_artifacts()\n",
    "model_artifact = [artifact for artifact in artifacts if artifact.type == \"model\"][0]\n",
    "model = wandb.Api(api_key=api_key).artifact(f\"{model_artifact.project}/{model_artifact.name}\")\n",
    "model.aliases.append('best')\n",
    "model.save()"
   ]
  },
  {
   "attachments": {},
   "cell_type": "markdown",
   "metadata": {},
   "source": [
    "The code above will add an alias to the selected run's model artifact (the best run in the sweep), not to the registered model."
   ]
  },
  {
   "cell_type": "code",
   "execution_count": 14,
   "metadata": {},
   "outputs": [
    {
     "data": {
      "text/plain": [
       "True"
      ]
     },
     "execution_count": 14,
     "metadata": {},
     "output_type": "execute_result"
    }
   ],
   "source": [
    "model.link(collection_name)\n",
    "model.save()"
   ]
  },
  {
   "attachments": {},
   "cell_type": "markdown",
   "metadata": {},
   "source": [
    "The code above simply assigns the label 'latest' to the linked model in the model registry."
   ]
  },
  {
   "cell_type": "code",
   "execution_count": 20,
   "metadata": {},
   "outputs": [],
   "source": [
    "artifact = wandb.Api().artifact(f\"{entity_name}/{project_name}/{collection_name}:latest\")"
   ]
  },
  {
   "cell_type": "code",
   "execution_count": 21,
   "metadata": {},
   "outputs": [
    {
     "data": {
      "text/plain": [
       "['latest']"
      ]
     },
     "execution_count": 21,
     "metadata": {},
     "output_type": "execute_result"
    }
   ],
   "source": [
    "artifact.aliases"
   ]
  },
  {
   "cell_type": "code",
   "execution_count": 22,
   "metadata": {},
   "outputs": [],
   "source": [
    "run_details = wandb.Api(api_key=api_key).run(f\"{run.entity}/{run.project}/{run.id}\")\n",
    "artifacts = run_details.logged_artifacts()\n",
    "model_artifact = [artifact for artifact in artifacts if artifact.type == \"model\"][0]\n",
    "model = wandb.Api(api_key=api_key).artifact(f\"{model_artifact.project}/{model_artifact.name}\")"
   ]
  },
  {
   "cell_type": "code",
   "execution_count": 23,
   "metadata": {},
   "outputs": [
    {
     "data": {
      "text/plain": [
       "['latest', 'best']"
      ]
     },
     "execution_count": 23,
     "metadata": {},
     "output_type": "execute_result"
    }
   ],
   "source": [
    "model.aliases"
   ]
  },
  {
   "cell_type": "code",
   "execution_count": 24,
   "metadata": {},
   "outputs": [
    {
     "data": {
      "text/plain": [
       "True"
      ]
     },
     "execution_count": 24,
     "metadata": {},
     "output_type": "execute_result"
    }
   ],
   "source": [
    "model.link(collection_name, aliases=[model.aliases[-1]])"
   ]
  },
  {
   "attachments": {},
   "cell_type": "markdown",
   "metadata": {},
   "source": [
    "[Report link](https://wandb.ai/saifulrijal873/mlops-zoomcamp-homework/reports/Advanced-Machine-Learning-Experiment-Tracking-using-Weights-Biases-MLOps-Zoomcamp-2023-Homework--Vmlldzo0NTM0OTMx?accessToken=8kyc3rpa78rq75g58wmcjv5v7lqyq583hd3zi0up0uvv2mt8lp7sh74jqszpgtdm)"
   ]
  }
 ],
 "metadata": {
  "kernelspec": {
   "display_name": "mlops_env",
   "language": "python",
   "name": "python3"
  },
  "language_info": {
   "codemirror_mode": {
    "name": "ipython",
    "version": 3
   },
   "file_extension": ".py",
   "mimetype": "text/x-python",
   "name": "python",
   "nbconvert_exporter": "python",
   "pygments_lexer": "ipython3",
   "version": "3.10.11"
  },
  "orig_nbformat": 4
 },
 "nbformat": 4,
 "nbformat_minor": 2
}
